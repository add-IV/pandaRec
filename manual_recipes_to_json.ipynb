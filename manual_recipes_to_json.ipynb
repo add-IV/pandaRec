{
 "cells": [
  {
   "cell_type": "code",
   "execution_count": 1,
   "metadata": {},
   "outputs": [],
   "source": [
    "from pandarec import Recipe, RecipeCollection\n",
    "import re"
   ]
  },
  {
   "cell_type": "code",
   "execution_count": 2,
   "metadata": {},
   "outputs": [],
   "source": [
    "with open(\"recipes_manual.txt\", 'r') as f:\n",
    "    recipes_manual = f.read()"
   ]
  },
  {
   "cell_type": "code",
   "execution_count": 3,
   "metadata": {},
   "outputs": [],
   "source": [
    "recipes_manual = recipes_manual.split('--\\n')"
   ]
  },
  {
   "cell_type": "code",
   "execution_count": 4,
   "metadata": {},
   "outputs": [],
   "source": [
    "recipes_manual.remove('')"
   ]
  },
  {
   "cell_type": "code",
   "execution_count": 5,
   "metadata": {},
   "outputs": [],
   "source": [
    "def create_recipe(recipe_str: str):\n",
    "    name = re.search('name: ((.|\\n)*)\\ndescription', recipe_str)\n",
    "    description = re.search('description: ((.|\\n)*)\\nkeywords:', recipe_str)\n",
    "    keywords = re.search('keywords: ((.|\\n)*)\\ncode:', recipe_str)\n",
    "    code = re.search('code: ((.|\\n)*)\\n', recipe_str)\n",
    "    if not name or not description or not keywords or not code:\n",
    "        TypeError(\"Invalid recipe string\")\n",
    "        return Recipe(0, \"\", \"\", \"\", \"\")\n",
    "    recipe = Recipe(0, name.group(1), description.group(1), code.group(1), keywords.group(1))\n",
    "    return recipe\n",
    "\n",
    "recipes = [create_recipe(recipe_str) for recipe_str in recipes_manual]"
   ]
  },
  {
   "cell_type": "code",
   "execution_count": 6,
   "metadata": {},
   "outputs": [],
   "source": [
    "recipe_collection = RecipeCollection(name=\"manual_recipes\", description=\"a list of manually created recipes\", embeddings=[], recipes=recipes)"
   ]
  },
  {
   "cell_type": "code",
   "execution_count": 7,
   "metadata": {},
   "outputs": [],
   "source": [
    "import json"
   ]
  },
  {
   "cell_type": "code",
   "execution_count": 8,
   "metadata": {},
   "outputs": [],
   "source": [
    "with open(\"recipes_manual.json\", \"w\") as write_file:\n",
    "    json.dump(recipe_collection, write_file, indent=4, sort_keys=True, default=lambda x: x.__dict__)"
   ]
  }
 ],
 "metadata": {
  "kernelspec": {
   "display_name": "Python 3",
   "language": "python",
   "name": "python3"
  },
  "language_info": {
   "codemirror_mode": {
    "name": "ipython",
    "version": 3
   },
   "file_extension": ".py",
   "mimetype": "text/x-python",
   "name": "python",
   "nbconvert_exporter": "python",
   "pygments_lexer": "ipython3",
   "version": "3.11.5"
  },
  "orig_nbformat": 4
 },
 "nbformat": 4,
 "nbformat_minor": 2
}
