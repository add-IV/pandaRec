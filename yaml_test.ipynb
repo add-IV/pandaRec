{
 "cells": [
  {
   "cell_type": "code",
   "execution_count": 1,
   "metadata": {},
   "outputs": [],
   "source": [
    "import yaml"
   ]
  },
  {
   "cell_type": "code",
   "execution_count": 5,
   "metadata": {},
   "outputs": [],
   "source": [
    "with open(\"./recipes.yaml\") as file:\n",
    "    yamlDict = yaml.load(file, Loader=yaml.SafeLoader)"
   ]
  },
  {
   "cell_type": "code",
   "execution_count": 8,
   "metadata": {},
   "outputs": [
    {
     "name": "stdout",
     "output_type": "stream",
     "text": [
      "{'id': 1, 'name': 'rename columns', 'description': 'rename columns', 'code': 'tbd', 'keywords': 'tbd'}\n",
      "{'id': 2, 'name': 'drop columns', 'description': 'drop columns', 'code': 'tbd', 'keywords': 'tbd'}\n"
     ]
    }
   ],
   "source": [
    "for el in yamlDict:\n",
    "    print(el)\n",
    "\n",
    "with open(\"./recipes2.yaml\", 'w') as file:\n",
    "    yaml.dump(yamlDict, file)"
   ]
  }
 ],
 "metadata": {
  "kernelspec": {
   "display_name": "Python 3",
   "language": "python",
   "name": "python3"
  },
  "language_info": {
   "codemirror_mode": {
    "name": "ipython",
    "version": 3
   },
   "file_extension": ".py",
   "mimetype": "text/x-python",
   "name": "python",
   "nbconvert_exporter": "python",
   "pygments_lexer": "ipython3",
   "version": "3.11.5"
  },
  "orig_nbformat": 4
 },
 "nbformat": 4,
 "nbformat_minor": 2
}
