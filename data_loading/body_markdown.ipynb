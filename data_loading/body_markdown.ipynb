{
 "cells": [
  {
   "cell_type": "code",
   "execution_count": 67,
   "metadata": {},
   "outputs": [],
   "source": [
    "from datasets import load_from_disk\n",
    "import xml.etree.ElementTree as ET"
   ]
  },
  {
   "cell_type": "code",
   "execution_count": 68,
   "metadata": {},
   "outputs": [],
   "source": [
    "ds = load_from_disk(\"posts/combined\")"
   ]
  },
  {
   "cell_type": "code",
   "execution_count": 113,
   "metadata": {},
   "outputs": [
    {
     "data": {
      "text/plain": [
       "'<p>I have the academic distribution of <code>EPD 7.1</code> for <code>MacOS 10.6.x</code>, which has pandas <code>0.3</code> version. The latest official version is <code>0.5.0</code> so I though I would upgrade to the latest. </p>\\n\\n<p>Here is what I did:</p>\\n\\n<ol>\\n<li>saved the <code>zip</code> file of the source from <a href=\"https://github.com/wesm/pandas\" rel=\"nofollow noreferrer\">here</a></li>\\n<li>executed <code>sudo python setup.py install</code></li>\\n<li>ran tests by executing <code>nosetests pandas</code></li>\\n</ol>\\n\\n<p>Please keep in mind I am a total newbie to python. Any insights on why my install failed would be greatly appreciated. Below is a snippet of the errors. The entire log can be found at <a href=\"http://encodable.com/uploaddemo/files/Pandas_install_test.txt\" rel=\"nofollow noreferrer\">Error log</a></p>\\n\\n<p>Results:</p>\\n\\n<p>Ran 1498 tests in 55.011s\\nFAILED (SKIP=4, errors=91, failures=14)</p>\\n\\n<pre><code>======================================================================\\nERROR: test_generate (test_daterange.TestGeneration)\\n----------------------------------------------------------------------\\nTraceback (most recent call last):\\n  File \"/Library/Frameworks/EPD64.framework/Versions/7.1/lib/python2.7/site-packages/pandas/core/tests/test_daterange.py\", line 20, in test_generate\\n    rng2 = list(generate_range(START, END, timeRule=\\'WEEKDAY\\'))\\nTypeError: generate_range() got an unexpected keyword argument \\'timeRule\\'\\n</code></pre>\\n\\n<p>@wesm - thanks for your quick reply. Next time I will definitely use the mailing list. So I actually backtracked... installed the official 0.5.0 release and compiled from source. I received 3 errors (see below). I did not experience any problems running <code>sudo python setup.py install</code></p>\\n\\n<pre><code>======================================================================\\nERROR: testForSeries (pandas.stats.tests.test_ols.TestPanelOLS)\\n----------------------------------------------------------------------\\nTraceback (most recent call last):\\n  File \"/Library/Frameworks/EPD64.framework/Versions/7.1/lib/python2.7/site-packages/pandas/stats/tests/test_ols.py\", line 472, in testForSeries\\n    self.series_x, self.series_y)\\n  File \"/Library/Frameworks/EPD64.framework/Versions/7.1/lib/python2.7/site-packages/pandas/stats/tests/test_ols.py\", line 565, in checkForSeries\\n    reference = ols(y=series_y, x=series_x, **kwds)\\n  File \"/Library/Frameworks/EPD64.framework/Versions/7.1/lib/python2.7/site-packages/pandas/stats/interface.py\", line 133, in ols\\n    return klass(**kwargs)\\n  File \"/Library/Frameworks/EPD64.framework/Versions/7.1/lib/python2.7/site-packages/pandas/stats/ols.py\", line 36, in __init__\\n    import scikits.statsmodels.api as sm\\nImportError: No module named api\\n\\n======================================================================\\nERROR: testNonPooled (pandas.stats.tests.test_ols.TestPanelOLS)\\n----------------------------------------------------------------------\\nTraceback (most recent call last):\\n  File \"/Library/Frameworks/EPD64.framework/Versions/7.1/lib/python2.7/site-packages/pandas/stats/tests/test_ols.py\", line 522, in testNonPooled\\n    self.checkNonPooled(y=self.panel_y, x=self.panel_x)\\n  File \"/Library/Frameworks/EPD64.framework/Versions/7.1/lib/python2.7/site-packages/pandas/stats/tests/test_ols.py\", line 528, in checkNonPooled\\n    result = ols(y=y, x=x, pool=False, **kwds)\\n  File \"/Library/Frameworks/EPD64.framework/Versions/7.1/lib/python2.7/site-packages/pandas/stats/interface.py\", line 133, in ols\\n    return klass(**kwargs)\\n  File \"/Library/Frameworks/EPD64.framework/Versions/7.1/lib/python2.7/site-packages/pandas/stats/plm.py\", line 780, in __init__\\n    nw_overlap=nw_overlap)\\n  File \"/Library/Frameworks/EPD64.framework/Versions/7.1/lib/python2.7/site-packages/pandas/stats/interface.py\", line 133, in ols\\n    return klass(**kwargs)\\n  File \"/Library/Frameworks/EPD64.framework/Versions/7.1/lib/python2.7/site-packages/pandas/stats/ols.py\", line 36, in __init__\\n    import scikits.statsmodels.api as sm\\nImportError: No module named api\\n\\n======================================================================\\nERROR: test_auto_rolling_window_type (pandas.stats.tests.test_ols.TestPanelOLS)\\n----------------------------------------------------------------------\\nTraceback (most recent call last):\\n  File \"/Library/Frameworks/EPD64.framework/Versions/7.1/lib/python2.7/site-packages/pandas/stats/tests/test_ols.py\", line 604, in test_auto_rolling_window_type\\n    window_model = ols(y=y, x=data, window=20, min_periods=10)\\n  File \"/Library/Frameworks/EPD64.framework/Versions/7.1/lib/python2.7/site-packages/pandas/stats/interface.py\", line 133, in ols\\n    return klass(**kwargs)\\n  File \"/Library/Frameworks/EPD64.framework/Versions/7.1/lib/python2.7/site-packages/pandas/stats/ols.py\", line 521, in __init__\\n    OLS.__init__(self, y=y, x=x, **self._args)\\n  File \"/Library/Frameworks/EPD64.framework/Versions/7.1/lib/python2.7/site-packages/pandas/stats/ols.py\", line 36, in __init__\\n    import scikits.statsmodels.api as sm\\nImportError: No module named api\\n</code></pre>\\n'"
      ]
     },
     "execution_count": 113,
     "metadata": {},
     "output_type": "execute_result"
    }
   ],
   "source": [
    "example = ds['Body'][15]\n",
    "example"
   ]
  },
  {
   "cell_type": "code",
   "execution_count": 114,
   "metadata": {},
   "outputs": [],
   "source": [
    "root = ET.fromstring(\"<body>\" + example + \"</body>\")"
   ]
  },
  {
   "cell_type": "code",
   "execution_count": 115,
   "metadata": {},
   "outputs": [
    {
     "name": "stdout",
     "output_type": "stream",
     "text": [
      "I have the academic distribution of `EPD 7.1``MacOS 10.6.x``0.3``0.5.0`\n",
      "\n",
      "Here is what I did:\n",
      "\n",
      "\n",
      "- saved the `zip`[here](https://github.com/wesm/pandas)\n",
      "- executed `sudo python setup.py install`\n",
      "- ran tests by executing `nosetests pandas`\n",
      "\n",
      "\n",
      "Please keep in mind I am a total newbie to python. Any insights on why my install failed would be greatly appreciated. Below is a snippet of the errors. The entire log can be found at [Error log](http://encodable.com/uploaddemo/files/Pandas_install_test.txt)\n",
      "\n",
      "Results:\n",
      "\n",
      "Ran 1498 tests in 55.011s\n",
      "FAILED (SKIP=4, errors=91, failures=14)\n",
      "\n",
      "```\n",
      "======================================================================\n",
      "ERROR: test_generate (test_daterange.TestGeneration)\n",
      "----------------------------------------------------------------------\n",
      "Traceback (most recent call last):\n",
      "  File \"/Library/Frameworks/EPD64.framework/Versions/7.1/lib/python2.7/site-packages/pandas/core/tests/test_daterange.py\", line 20, in test_generate\n",
      "    rng2 = list(generate_range(START, END, timeRule='WEEKDAY'))\n",
      "TypeError: generate_range() got an unexpected keyword argument 'timeRule'\n",
      "\n",
      "```\n",
      "\n",
      "@wesm - thanks for your quick reply. Next time I will definitely use the mailing list. So I actually backtracked... installed the official 0.5.0 release and compiled from source. I received 3 errors (see below). I did not experience any problems running `sudo python setup.py install`\n",
      "\n",
      "```\n",
      "======================================================================\n",
      "ERROR: testForSeries (pandas.stats.tests.test_ols.TestPanelOLS)\n",
      "----------------------------------------------------------------------\n",
      "Traceback (most recent call last):\n",
      "  File \"/Library/Frameworks/EPD64.framework/Versions/7.1/lib/python2.7/site-packages/pandas/stats/tests/test_ols.py\", line 472, in testForSeries\n",
      "    self.series_x, self.series_y)\n",
      "  File \"/Library/Frameworks/EPD64.framework/Versions/7.1/lib/python2.7/site-packages/pandas/stats/tests/test_ols.py\", line 565, in checkForSeries\n",
      "    reference = ols(y=series_y, x=series_x, **kwds)\n",
      "  File \"/Library/Frameworks/EPD64.framework/Versions/7.1/lib/python2.7/site-packages/pandas/stats/interface.py\", line 133, in ols\n",
      "    return klass(**kwargs)\n",
      "  File \"/Library/Frameworks/EPD64.framework/Versions/7.1/lib/python2.7/site-packages/pandas/stats/ols.py\", line 36, in __init__\n",
      "    import scikits.statsmodels.api as sm\n",
      "ImportError: No module named api\n",
      "\n",
      "======================================================================\n",
      "ERROR: testNonPooled (pandas.stats.tests.test_ols.TestPanelOLS)\n",
      "----------------------------------------------------------------------\n",
      "Traceback (most recent call last):\n",
      "  File \"/Library/Frameworks/EPD64.framework/Versions/7.1/lib/python2.7/site-packages/pandas/stats/tests/test_ols.py\", line 522, in testNonPooled\n",
      "    self.checkNonPooled(y=self.panel_y, x=self.panel_x)\n",
      "  File \"/Library/Frameworks/EPD64.framework/Versions/7.1/lib/python2.7/site-packages/pandas/stats/tests/test_ols.py\", line 528, in checkNonPooled\n",
      "    result = ols(y=y, x=x, pool=False, **kwds)\n",
      "  File \"/Library/Frameworks/EPD64.framework/Versions/7.1/lib/python2.7/site-packages/pandas/stats/interface.py\", line 133, in ols\n",
      "    return klass(**kwargs)\n",
      "  File \"/Library/Frameworks/EPD64.framework/Versions/7.1/lib/python2.7/site-packages/pandas/stats/plm.py\", line 780, in __init__\n",
      "    nw_overlap=nw_overlap)\n",
      "  File \"/Library/Frameworks/EPD64.framework/Versions/7.1/lib/python2.7/site-packages/pandas/stats/interface.py\", line 133, in ols\n",
      "    return klass(**kwargs)\n",
      "  File \"/Library/Frameworks/EPD64.framework/Versions/7.1/lib/python2.7/site-packages/pandas/stats/ols.py\", line 36, in __init__\n",
      "    import scikits.statsmodels.api as sm\n",
      "ImportError: No module named api\n",
      "\n",
      "======================================================================\n",
      "ERROR: test_auto_rolling_window_type (pandas.stats.tests.test_ols.TestPanelOLS)\n",
      "----------------------------------------------------------------------\n",
      "Traceback (most recent call last):\n",
      "  File \"/Library/Frameworks/EPD64.framework/Versions/7.1/lib/python2.7/site-packages/pandas/stats/tests/test_ols.py\", line 604, in test_auto_rolling_window_type\n",
      "    window_model = ols(y=y, x=data, window=20, min_periods=10)\n",
      "  File \"/Library/Frameworks/EPD64.framework/Versions/7.1/lib/python2.7/site-packages/pandas/stats/interface.py\", line 133, in ols\n",
      "    return klass(**kwargs)\n",
      "  File \"/Library/Frameworks/EPD64.framework/Versions/7.1/lib/python2.7/site-packages/pandas/stats/ols.py\", line 521, in __init__\n",
      "    OLS.__init__(self, y=y, x=x, **self._args)\n",
      "  File \"/Library/Frameworks/EPD64.framework/Versions/7.1/lib/python2.7/site-packages/pandas/stats/ols.py\", line 36, in __init__\n",
      "    import scikits.statsmodels.api as sm\n",
      "ImportError: No module named api\n",
      "\n",
      "```\n",
      "\n"
     ]
    }
   ],
   "source": [
    "def traverse(node):\n",
    "    traverse_children = False\n",
    "    text = \"\"\n",
    "    match node.tag:\n",
    "        case \"a\":\n",
    "            return f\"[{node.text}]({node.attrib['href']})\"\n",
    "        case \"h1\":\n",
    "            return f\"\\n# {node.text}\\n\\n\"\n",
    "        case \"h2\":\n",
    "            return f\"\\n## {node.text}\\n\\n\"\n",
    "        case \"h3\":\n",
    "            return f\"\\n### {node.text}\\n\\n\"\n",
    "        case \"h4\":\n",
    "            return f\"\\n#### {node.text}\\n\\n\"\n",
    "        case \"h5\":\n",
    "            return f\"\\n##### {node.text}\\n\\n\"\n",
    "        case \"h6\":\n",
    "            return f\"\\n###### {node.text}\\n\\n\"\n",
    "        case \"code\":\n",
    "            return f\"`{node.text}`\"\n",
    "        case \"blockquote\":\n",
    "            text = f\"> \"\n",
    "            traverse_children = True\n",
    "        case \"hr\":\n",
    "            return f\"\\n---\\n\\n\"\n",
    "        case \"img\":\n",
    "            return f\"![{node.attrib['alt']}]({node.attrib['src']})\"\n",
    "        case \"li\":\n",
    "            text = f\"- {node.text}\"\n",
    "            traverse_children = True\n",
    "        case \"pre\":\n",
    "            has_code = False\n",
    "            for child in node:\n",
    "                if child.tag == \"code\":\n",
    "                    has_code = True\n",
    "                    text = f\"```\\n{child.text}\\n```\"\n",
    "            if not has_code:\n",
    "                traverse_children = True\n",
    "                if node.text:\n",
    "                    text = node.text + text\n",
    "        case other:\n",
    "            traverse_children = True\n",
    "            if node.text:\n",
    "                text = node.text + text\n",
    "    if traverse_children:\n",
    "        for child in node:\n",
    "            text += traverse(child)\n",
    "    if node.tail:\n",
    "        text += node.tail\n",
    "    return text\n",
    "\n",
    "print(traverse(root))"
   ]
  }
 ],
 "metadata": {
  "kernelspec": {
   "display_name": "Python 3",
   "language": "python",
   "name": "python3"
  },
  "language_info": {
   "codemirror_mode": {
    "name": "ipython",
    "version": 3
   },
   "file_extension": ".py",
   "mimetype": "text/x-python",
   "name": "python",
   "nbconvert_exporter": "python",
   "pygments_lexer": "ipython3",
   "version": "3.10.11"
  },
  "orig_nbformat": 4
 },
 "nbformat": 4,
 "nbformat_minor": 2
}
