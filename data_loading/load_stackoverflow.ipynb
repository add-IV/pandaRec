{
 "cells": [
  {
   "cell_type": "markdown",
   "metadata": {},
   "source": [
    "# Prepare Data\n",
    "\n",
    "1. get the data from archive.org (stackoverflow.com-Posts.7z) (18.7 GB)\n",
    "2. extract the data (94.9 GB)\n",
    "3. turn into csv (71.1 GB)\n",
    "4. only keep the columns we need (71.1 GB)\n"
   ]
  },
  {
   "cell_type": "code",
   "execution_count": 2,
   "metadata": {},
   "outputs": [],
   "source": [
    "import csv\n",
    "from datasets import load_dataset"
   ]
  },
  {
   "cell_type": "code",
   "execution_count": 3,
   "metadata": {},
   "outputs": [
    {
     "name": "stdout",
     "output_type": "stream",
     "text": [
      "{'Id': '4', 'PostTypeId': '1', 'ParentId': '', 'CreationDate': '2008-07-31T21:42:52.667', 'Score': '795', 'Body': '<p>I want to assign the decimal variable &quot;trans&quot; to the double variable &quot;this.Opacity&quot;.</p>\\n<pre class=\"lang-cs prettyprint-override\"><code>decimal trans = trackBar1.Value / 5000;\\nthis.Opacity = trans;\\n</code></pre>\\n<p>When I build the app it gives the following error:</p>\\n<blockquote>\\n<p>Cannot implicitly convert type decimal to double</p>\\n</blockquote>\\n', 'OwnerUserId': '8', 'OwnerDisplayName': '', 'LastEditorUserId': '16124033', 'LastEditDate': '2022-09-08T05:07:26.033', 'LastActivityDate': '2022-09-08T05:07:26.033', 'CommentCount': '4', 'ContentLicense': 'CC BY-SA 4.0', 'AcceptedAnswerId': '7', 'ViewCount': '72107', 'Title': 'How to convert Decimal to Double in C#?', 'Tags': '<c#><floating-point><type-conversion><double><decimal>', 'AnswerCount': '13', 'LastEditorDisplayName': 'Rich B', 'FavoriteCount': '0', 'CommunityOwnedDate': '2012-10-31T16:42:47.213', 'ClosedDate': ''}\n"
     ]
    }
   ],
   "source": [
    "with open('F:\\posts\\Posts.csv', newline='') as f:\n",
    "    reader = csv.DictReader(f)\n",
    "    for row in reader:\n",
    "        print(row)\n",
    "        break"
   ]
  },
  {
   "cell_type": "code",
   "execution_count": 7,
   "metadata": {},
   "outputs": [
    {
     "name": "stdout",
     "output_type": "stream",
     "text": [
      "100.00 %\r"
     ]
    }
   ],
   "source": [
    "def filter_questions(sample):\n",
    "    return sample['PostTypeId'] == \"1\"\n",
    "\n",
    "def filter_pandas_tags(sample):\n",
    "    return 'pandas' in sample['Tags']\n",
    "\n",
    "with open('F:\\posts\\Posts.csv', newline='') as infile:\n",
    "    reader = csv.DictReader(infile)\n",
    "    with open('./posts/questions.csv', 'w', newline='') as outfile:\n",
    "        writer = csv.DictWriter(outfile, fieldnames=reader.fieldnames)\n",
    "        writer.writeheader()\n",
    "        i = 0\n",
    "        for row in reader:\n",
    "            if filter_questions(row) and filter_pandas_tags(row):\n",
    "                writer.writerow(row)\n",
    "            i += 1\n",
    "            if i % 1000000 == 0:\n",
    "                print(f\"{(i / 58000000 * 100):.2f} %\", end='\\r')"
   ]
  },
  {
   "cell_type": "code",
   "execution_count": 3,
   "metadata": {},
   "outputs": [],
   "source": [
    "ids = []\n",
    "\n",
    "with open('./posts/questions.csv', newline='') as infile:\n",
    "    reader = csv.DictReader(infile)\n",
    "    for row in reader:\n",
    "        ids.append(row['Id'])\n",
    "\n",
    "ids = set(ids)\n"
   ]
  },
  {
   "cell_type": "code",
   "execution_count": 5,
   "metadata": {},
   "outputs": [
    {
     "data": {
      "text/plain": [
       "283930"
      ]
     },
     "execution_count": 5,
     "metadata": {},
     "output_type": "execute_result"
    }
   ],
   "source": [
    "len(ids)"
   ]
  },
  {
   "cell_type": "code",
   "execution_count": 6,
   "metadata": {},
   "outputs": [
    {
     "name": "stdout",
     "output_type": "stream",
     "text": [
      "100.00 %\r"
     ]
    }
   ],
   "source": [
    "def filter_answers(sample):\n",
    "    return sample['PostTypeId'] == \"2\"\n",
    "\n",
    "def filter_answers_to_questions(sample):\n",
    "    return sample['ParentId'] in ids\n",
    "\n",
    "\n",
    "with open('F:\\posts\\Posts.csv', newline='') as infile:\n",
    "    reader = csv.DictReader(infile)\n",
    "    with open('./posts/answers.csv', 'w', newline='') as outfile:\n",
    "        writer = csv.DictWriter(outfile, fieldnames=reader.fieldnames)\n",
    "        writer.writeheader()\n",
    "        i = 0\n",
    "        for row in reader:\n",
    "            if filter_answers(row) and filter_answers_to_questions(row):\n",
    "                writer.writerow(row)\n",
    "            i += 1\n",
    "            if i % 1000000 == 0:\n",
    "                print(f\"{(i / 58000000 * 100):.2f} %\", end='\\r')"
   ]
  }
 ],
 "metadata": {
  "kernelspec": {
   "display_name": "Python 3",
   "language": "python",
   "name": "python3"
  },
  "language_info": {
   "codemirror_mode": {
    "name": "ipython",
    "version": 3
   },
   "file_extension": ".py",
   "mimetype": "text/x-python",
   "name": "python",
   "nbconvert_exporter": "python",
   "pygments_lexer": "ipython3",
   "version": "3.10.11"
  },
  "orig_nbformat": 4
 },
 "nbformat": 4,
 "nbformat_minor": 2
}
