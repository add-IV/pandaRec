{
 "cells": [
  {
   "cell_type": "code",
   "execution_count": 85,
   "metadata": {},
   "outputs": [],
   "source": [
    "from datasets import load_dataset, concatenate_datasets, Value, Sequence, Features"
   ]
  },
  {
   "cell_type": "code",
   "execution_count": 30,
   "metadata": {},
   "outputs": [
    {
     "name": "stderr",
     "output_type": "stream",
     "text": [
      "Found cached dataset csv (C:/Users/add-iv/.cache/huggingface/datasets/csv/answers-d5d77788c5a9b952/0.0.0/6954658bab30a358235fa864b05cf819af0e179325c740e4bc853bcc7ec513e1)\n"
     ]
    }
   ],
   "source": [
    "da = load_dataset(\"posts/answers\", split=\"train\")"
   ]
  },
  {
   "cell_type": "code",
   "execution_count": 2,
   "metadata": {},
   "outputs": [
    {
     "name": "stderr",
     "output_type": "stream",
     "text": [
      "Found cached dataset csv (C:/Users/add-iv/.cache/huggingface/datasets/csv/questions-5b4d622f4d54e545/0.0.0/6954658bab30a358235fa864b05cf819af0e179325c740e4bc853bcc7ec513e1)\n"
     ]
    }
   ],
   "source": [
    "dq = load_dataset(\"posts/questions\", split=\"train\")"
   ]
  },
  {
   "cell_type": "code",
   "execution_count": 18,
   "metadata": {},
   "outputs": [
    {
     "data": {
      "application/vnd.jupyter.widget-view+json": {
       "model_id": "4d6bdc2b7aa4460b92ca191f42073dc0",
       "version_major": 2,
       "version_minor": 0
      },
      "text/plain": [
       "Map:   0%|          | 0/283930 [00:00<?, ? examples/s]"
      ]
     },
     "metadata": {},
     "output_type": "display_data"
    }
   ],
   "source": [
    "def tags_to_list(example):\n",
    "    if example['Tags']:\n",
    "        example['Tags'] = example['Tags'][1:-1].split('><')\n",
    "    return example\n",
    "\n",
    "dq = dq.map(tags_to_list)"
   ]
  },
  {
   "cell_type": "code",
   "execution_count": 24,
   "metadata": {},
   "outputs": [
    {
     "data": {
      "application/vnd.jupyter.widget-view+json": {
       "model_id": "2cb36175a0e1462c904b0c7090d8a15e",
       "version_major": 2,
       "version_minor": 0
      },
      "text/plain": [
       "Filter:   0%|          | 0/283930 [00:00<?, ? examples/s]"
      ]
     },
     "metadata": {},
     "output_type": "display_data"
    }
   ],
   "source": [
    "def filter_pandas_tags(sample):\n",
    "    return 'pandas' in sample['Tags']\n",
    "\n",
    "dq = dq.filter(filter_pandas_tags)"
   ]
  },
  {
   "cell_type": "code",
   "execution_count": 28,
   "metadata": {},
   "outputs": [],
   "source": [
    "ids = dq['Id']\n"
   ]
  },
  {
   "cell_type": "code",
   "execution_count": 31,
   "metadata": {},
   "outputs": [
    {
     "data": {
      "application/vnd.jupyter.widget-view+json": {
       "model_id": "7c042411d629429c971324959e9f4a61",
       "version_major": 2,
       "version_minor": 0
      },
      "text/plain": [
       "Filter:   0%|          | 0/393065 [00:00<?, ? examples/s]"
      ]
     },
     "metadata": {},
     "output_type": "display_data"
    }
   ],
   "source": [
    "def filter_answers_to_questions(sample):\n",
    "    return sample['ParentId'] in ids\n",
    "\n",
    "da = da.filter(filter_answers_to_questions)"
   ]
  },
  {
   "cell_type": "code",
   "execution_count": 96,
   "metadata": {},
   "outputs": [
    {
     "data": {
      "application/vnd.jupyter.widget-view+json": {
       "model_id": "64112337bef245cea3f6a73b24dc44e2",
       "version_major": 2,
       "version_minor": 0
      },
      "text/plain": [
       "Map:   0%|          | 0/388877 [00:00<?, ? examples/s]"
      ]
     },
     "metadata": {},
     "output_type": "display_data"
    }
   ],
   "source": [
    "def to_string_array(example):\n",
    "    example['Tags'] = None\n",
    "    return example\n",
    "\n",
    "da = da.map(to_string_array)"
   ]
  },
  {
   "cell_type": "code",
   "execution_count": 100,
   "metadata": {},
   "outputs": [
    {
     "data": {
      "application/vnd.jupyter.widget-view+json": {
       "model_id": "683cdba5e89a419ca225441bae4397d5",
       "version_major": 2,
       "version_minor": 0
      },
      "text/plain": [
       "Casting the dataset:   0%|          | 0/388877 [00:00<?, ? examples/s]"
      ]
     },
     "metadata": {},
     "output_type": "display_data"
    }
   ],
   "source": [
    "da = da.cast_column('Tags', Sequence(feature=Value(dtype='string', id=None), length=-1, id=None))"
   ]
  },
  {
   "cell_type": "code",
   "execution_count": 103,
   "metadata": {},
   "outputs": [
    {
     "data": {
      "text/plain": [
       "{'Id': Value(dtype='int64', id=None),\n",
       " 'PostTypeId': Value(dtype='int64', id=None),\n",
       " 'ParentId': Value(dtype='int64', id=None),\n",
       " 'CreationDate': Value(dtype='string', id=None),\n",
       " 'Score': Value(dtype='int64', id=None),\n",
       " 'Body': Value(dtype='string', id=None),\n",
       " 'OwnerUserId': Value(dtype='int64', id=None),\n",
       " 'OwnerDisplayName': Value(dtype='string', id=None),\n",
       " 'LastEditorUserId': Value(dtype='int64', id=None),\n",
       " 'LastEditDate': Value(dtype='string', id=None),\n",
       " 'LastActivityDate': Value(dtype='string', id=None),\n",
       " 'CommentCount': Value(dtype='int64', id=None),\n",
       " 'ContentLicense': Value(dtype='string', id=None),\n",
       " 'AcceptedAnswerId': Value(dtype='int64', id=None),\n",
       " 'ViewCount': Value(dtype='int64', id=None),\n",
       " 'Title': Value(dtype='string', id=None),\n",
       " 'Tags': Sequence(feature=Value(dtype='string', id=None), length=-1, id=None),\n",
       " 'AnswerCount': Value(dtype='int64', id=None),\n",
       " 'LastEditorDisplayName': Value(dtype='string', id=None),\n",
       " 'FavoriteCount': Value(dtype='int64', id=None),\n",
       " 'CommunityOwnedDate': Value(dtype='string', id=None),\n",
       " 'ClosedDate': Value(dtype='string', id=None)}"
      ]
     },
     "execution_count": 103,
     "metadata": {},
     "output_type": "execute_result"
    }
   ],
   "source": [
    "da.features"
   ]
  },
  {
   "cell_type": "code",
   "execution_count": 105,
   "metadata": {},
   "outputs": [],
   "source": [
    "d_combined = concatenate_datasets([dq, da])"
   ]
  },
  {
   "cell_type": "code",
   "execution_count": 108,
   "metadata": {},
   "outputs": [
    {
     "data": {
      "application/vnd.jupyter.widget-view+json": {
       "model_id": "276221297dcc430b92b6048421a0a4bd",
       "version_major": 2,
       "version_minor": 0
      },
      "text/plain": [
       "Creating CSV from Arrow format:   0%|          | 0/669 [00:00<?, ?ba/s]"
      ]
     },
     "metadata": {},
     "output_type": "display_data"
    }
   ],
   "source": [
    "d_combined.to_csv('posts/combined.csv')"
   ]
  }
 ],
 "metadata": {
  "kernelspec": {
   "display_name": "Python 3",
   "language": "python",
   "name": "python3"
  },
  "language_info": {
   "codemirror_mode": {
    "name": "ipython",
    "version": 3
   },
   "file_extension": ".py",
   "mimetype": "text/x-python",
   "name": "python",
   "nbconvert_exporter": "python",
   "pygments_lexer": "ipython3",
   "version": "3.10.11"
  },
  "orig_nbformat": 4
 },
 "nbformat": 4,
 "nbformat_minor": 2
}
