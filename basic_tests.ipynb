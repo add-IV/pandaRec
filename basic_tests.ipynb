{
 "cells": [
  {
   "cell_type": "code",
   "execution_count": 2,
   "metadata": {},
   "outputs": [],
   "source": [
    "from pandaRec import MyGrid\n",
    "from json import load\n",
    "import pandas as pd\n",
    "\n"
   ]
  },
  {
   "cell_type": "code",
   "execution_count": 3,
   "metadata": {},
   "outputs": [
    {
     "data": {
      "application/vnd.jupyter.widget-view+json": {
       "model_id": "7eed9bbca1924fdb8ff353901df751c5",
       "version_major": 2,
       "version_minor": 0
      },
      "text/plain": [
       "MyGrid(auto_fit_params={'area': 'all', 'padding': 30, 'numCols': None}, corner_renderer=None, default_renderer…"
      ]
     },
     "execution_count": 3,
     "metadata": {},
     "output_type": "execute_result"
    }
   ],
   "source": [
    "with open(\"./cars.json\") as fobj:\n",
    "    data = load(fobj)\n",
    "df = pd.DataFrame(data[\"data\"]).drop(\"index\", axis=1)\n",
    "\n",
    "datagrid = MyGrid(df, editable=True, layout={\"height\": \"200px\"})\n",
    "datagrid"
   ]
  },
  {
   "cell_type": "code",
   "execution_count": 6,
   "metadata": {},
   "outputs": [
    {
     "data": {
      "text/plain": [
       "[{'r': 20, 'c': 2},\n",
       " {'r': 20, 'c': 3},\n",
       " {'r': 20, 'c': 4},\n",
       " {'r': 21, 'c': 2},\n",
       " {'r': 21, 'c': 3},\n",
       " {'r': 21, 'c': 4}]"
      ]
     },
     "execution_count": 6,
     "metadata": {},
     "output_type": "execute_result"
    }
   ],
   "source": [
    "datagrid.selected_cells"
   ]
  }
 ],
 "metadata": {
  "kernelspec": {
   "display_name": "Python 3",
   "language": "python",
   "name": "python3"
  },
  "language_info": {
   "codemirror_mode": {
    "name": "ipython",
    "version": 3
   },
   "file_extension": ".py",
   "mimetype": "text/x-python",
   "name": "python",
   "nbconvert_exporter": "python",
   "pygments_lexer": "ipython3",
   "version": "3.10.9 | packaged by conda-forge | (main, Jan 11 2023, 15:15:40) [MSC v.1916 64 bit (AMD64)]"
  },
  "vscode": {
   "interpreter": {
    "hash": "ab882970a465b91ccf0c26acb5933a8d082ef70b2e4e554514d40e08e4f53216"
   }
  }
 },
 "nbformat": 4,
 "nbformat_minor": 4
}
