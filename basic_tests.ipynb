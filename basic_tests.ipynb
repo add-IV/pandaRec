{
 "cells": [
  {
   "cell_type": "code",
   "execution_count": 31,
   "metadata": {},
   "outputs": [
    {
     "data": {
      "application/vnd.jupyter.widget-view+json": {
       "model_id": "56aa12bcc1b84f739af7e959dacf6646",
       "version_major": 2,
       "version_minor": 0
      },
      "text/plain": [
       "Text(value='', description='Prompt:')"
      ]
     },
     "metadata": {},
     "output_type": "display_data"
    },
    {
     "data": {
      "application/vnd.jupyter.widget-view+json": {
       "model_id": "df9fd9e67fb74683893aaac1c99d78ce",
       "version_major": 2,
       "version_minor": 0
      },
      "text/plain": [
       "Button(description='search', layout=Layout(width='200px'), style=ButtonStyle())"
      ]
     },
     "metadata": {},
     "output_type": "display_data"
    },
    {
     "data": {
      "application/vnd.jupyter.widget-view+json": {
       "model_id": "97438b2930cf44e49dddafbbdb30f716",
       "version_major": 2,
       "version_minor": 0
      },
      "text/plain": [
       "DataGrid(auto_fit_params={'area': 'all', 'padding': 30, 'numCols': None}, corner_renderer=None, default_render…"
      ]
     },
     "metadata": {},
     "output_type": "display_data"
    },
    {
     "name": "stdout",
     "output_type": "stream",
     "text": [
      "aa\n"
     ]
    }
   ],
   "source": [
    "import ipywidgets as widgets\n",
    "from ipywidgets import interact, Layout\n",
    "from ipywidgets import Text, IntSlider, Dropdown, Button\n",
    "from ipydatagrid import DataGrid\n",
    "import pandas as pd\n",
    "# Erstelle ein neues Text-Eingabefeld tb1 und zeige es an.\n",
    "tb1 = Text(value='', \n",
    "                   description='Prompt:')\n",
    "\n",
    "button = Button(description='search', \n",
    "                        layout=Layout(width='200px'))\n",
    "\n",
    "df = pd.DataFrame({'A': [1, 2, 3], 'B': [4, 5, 6]})\n",
    "dg = DataGrid(df)\n",
    "\n",
    "display(tb1, button, dg)\n",
    "\n",
    "button.on_click(lambda x: print(tb1.value))"
   ]
  }
 ],
 "metadata": {
  "kernelspec": {
   "display_name": "Python 3",
   "language": "python",
   "name": "python3"
  },
  "language_info": {
   "codemirror_mode": {
    "name": "ipython",
    "version": 3
   },
   "file_extension": ".py",
   "mimetype": "text/x-python",
   "name": "python",
   "nbconvert_exporter": "python",
   "pygments_lexer": "ipython3",
   "version": "3.10.9"
  },
  "vscode": {
   "interpreter": {
    "hash": "ab882970a465b91ccf0c26acb5933a8d082ef70b2e4e554514d40e08e4f53216"
   }
  }
 },
 "nbformat": 4,
 "nbformat_minor": 4
}
