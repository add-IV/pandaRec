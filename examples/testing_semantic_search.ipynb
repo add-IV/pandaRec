{
 "cells": [
  {
   "cell_type": "code",
   "execution_count": 1,
   "metadata": {},
   "outputs": [],
   "source": [
    "import json\n",
    "from sentence_transformers import SentenceTransformer, util\n",
    "import sys\n",
    "import pandas as pd\n",
    "sys.path.append('../')\n",
    "from pandaRec.pandaRecWidget import PandaRecWidget\n",
    "from pandaRec.recipe import Recipe, RecipeResult\n",
    "from pandaRec.recommender import Recommender\n",
    "from pandaRec.strategies import RecommendStrategy\n",
    "from pandaRec.context import Context"
   ]
  },
  {
   "cell_type": "code",
   "execution_count": 2,
   "metadata": {},
   "outputs": [],
   "source": [
    "with open('recipes2.json') as json_file:\n",
    "    data = json.load(json_file)"
   ]
  },
  {
   "cell_type": "code",
   "execution_count": 3,
   "metadata": {},
   "outputs": [],
   "source": [
    "recipes = [Recipe.from_dict(recipe) for recipe in data]"
   ]
  },
  {
   "cell_type": "code",
   "execution_count": 4,
   "metadata": {},
   "outputs": [],
   "source": [
    "with open(\"./cars.json\") as file:\n",
    "    data = json.load(file)\n",
    "\n",
    "df = pd.DataFrame(data[\"data\"]).drop(\"index\", axis=1)"
   ]
  },
  {
   "cell_type": "code",
   "execution_count": 25,
   "metadata": {},
   "outputs": [],
   "source": [
    "class SemanticSearch(RecommendStrategy):\n",
    "    def __init__(self, recipes: list[Recipe], embeddings_path: str = None):\n",
    "        super().__init__()\n",
    "        self.model = SentenceTransformer(\"sentence-transformers/all-mpnet-base-v2\")\n",
    "        descriptions = [recipe.description for recipe in recipes]\n",
    "        if not embeddings_path:\n",
    "            self.embeddings = self.model.encode(descriptions, convert_to_tensor=True)\n",
    "        else:\n",
    "            self.load_embeddings(embeddings_path)\n",
    "\n",
    "    def search(self, context: Context, recipes: list[Recipe]) -> list[RecipeResult]:\n",
    "        query_embedding = self.model.encode(context.search, convert_to_tensor=True)\n",
    "        cos_scores = [utils.cos_sim(query_embedding, embedding) for embedding in self.embeddings]\n",
    "        results = [RecipeResult(recipe, score) for recipe, score in zip(recipes, cos_scores)]\n",
    "        return results\n",
    "\n",
    "    def save_embeddings(self, path):\n",
    "        torch.save(self.embeddings, path)\n",
    "\n",
    "    def load_embeddings(self, path):\n",
    "        self.embeddings = torch.load(path)\n"
   ]
  },
  {
   "cell_type": "code",
   "execution_count": 26,
   "metadata": {},
   "outputs": [
    {
     "ename": "TypeError",
     "evalue": "Context.__init__() missing 2 required positional arguments: 'data' and 'search'",
     "output_type": "error",
     "traceback": [
      "\u001b[1;31m---------------------------------------------------------------------------\u001b[0m",
      "\u001b[1;31mTypeError\u001b[0m                                 Traceback (most recent call last)",
      "\u001b[1;32mg:\\Programming\\bachelor\\examples\\testing_semantic_search.ipynb Cell 6\u001b[0m line \u001b[0;36m1\n\u001b[1;32m----> <a href='vscode-notebook-cell:/g%3A/Programming/bachelor/examples/testing_semantic_search.ipynb#W5sZmlsZQ%3D%3D?line=0'>1</a>\u001b[0m SemanticSearch(recipes)\u001b[39m.\u001b[39msearch(Context(\u001b[39m\"\u001b[39m\u001b[39mchicken\u001b[39m\u001b[39m\"\u001b[39m), recipes)\n",
      "\u001b[1;31mTypeError\u001b[0m: Context.__init__() missing 2 required positional arguments: 'data' and 'search'"
     ]
    }
   ],
   "source": [
    "SemanticSearch(recipes).search(Context(\"chicken\"), recipes)"
   ]
  }
 ],
 "metadata": {
  "kernelspec": {
   "display_name": "Python 3",
   "language": "python",
   "name": "python3"
  },
  "language_info": {
   "codemirror_mode": {
    "name": "ipython",
    "version": 3
   },
   "file_extension": ".py",
   "mimetype": "text/x-python",
   "name": "python",
   "nbconvert_exporter": "python",
   "pygments_lexer": "ipython3",
   "version": "3.11.5"
  },
  "orig_nbformat": 4
 },
 "nbformat": 4,
 "nbformat_minor": 2
}
