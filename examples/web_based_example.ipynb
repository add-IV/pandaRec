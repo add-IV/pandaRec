{
 "cells": [
  {
   "cell_type": "code",
   "execution_count": 1,
   "metadata": {},
   "outputs": [],
   "source": [
    "import pandas as pd\n",
    "import json\n",
    "import sys\n",
    "sys.path.append('../')\n",
    "from pandarec import PandaRecWidget, Recipe, Recommender\n",
    "from pandarec.strategies import WebSocketStrategy"
   ]
  },
  {
   "cell_type": "code",
   "execution_count": 2,
   "metadata": {},
   "outputs": [],
   "source": [
    "with open(\"../recipes/from_docstrings/recipes.json\") as file:\n",
    "    recipes = json.load(file)\n",
    "\n",
    "recipes = [Recipe.from_dict(recipe) for recipe in recipes]"
   ]
  },
  {
   "cell_type": "code",
   "execution_count": 3,
   "metadata": {},
   "outputs": [
    {
     "name": "stdout",
     "output_type": "stream",
     "text": [
      "FeedbackButton(button_style='success', description='+', layout=Layout(height='50%'), style=ButtonStyle())\n",
      "FeedbackButton(button_style='danger', description='-', layout=Layout(height='50%'), style=ButtonStyle())\n",
      "FeedbackButton(button_style='danger', description='-', layout=Layout(height='50%'), style=ButtonStyle())\n",
      "FeedbackButton(button_style='danger', description='-', layout=Layout(height='50%'), style=ButtonStyle())\n",
      "FeedbackButton(button_style='danger', description='-', layout=Layout(height='50%'), style=ButtonStyle())\n",
      "FeedbackButton(button_style='danger', description='-', layout=Layout(height='50%'), style=ButtonStyle())\n"
     ]
    }
   ],
   "source": [
    "with open(\"./cars.json\") as file:\n",
    "    data = json.load(file)\n",
    "\n",
    "df = pd.DataFrame(data[\"data\"]).drop(\"index\", axis=1)\n",
    "\n",
    "recommender = Recommender(recipes, df, WebSocketStrategy())\n",
    "\n",
    "datagrid_layout = {\n",
    "    \"height\": \"300px\"\n",
    "}\n",
    "widget = PandaRecWidget(recommender, html=True, datagrid_layout=datagrid_layout)"
   ]
  },
  {
   "cell_type": "code",
   "execution_count": 4,
   "metadata": {},
   "outputs": [
    {
     "data": {
      "application/vnd.jupyter.widget-view+json": {
       "model_id": "5724c770f242458d85be96cf2c81b466",
       "version_major": 2,
       "version_minor": 0
      },
      "text/plain": [
       "PandaRecWidget(children=(Accordion(children=(VBox(children=(Label(value='Copy Prefix'), Textarea(value='widget…"
      ]
     },
     "metadata": {},
     "output_type": "display_data"
    }
   ],
   "source": [
    "display(widget)"
   ]
  }
 ],
 "metadata": {
  "kernelspec": {
   "display_name": "venv",
   "language": "python",
   "name": "python3"
  },
  "language_info": {
   "codemirror_mode": {
    "name": "ipython",
    "version": 3
   },
   "file_extension": ".py",
   "mimetype": "text/x-python",
   "name": "python",
   "nbconvert_exporter": "python",
   "pygments_lexer": "ipython3",
   "version": "3.10.13"
  }
 },
 "nbformat": 4,
 "nbformat_minor": 2
}
