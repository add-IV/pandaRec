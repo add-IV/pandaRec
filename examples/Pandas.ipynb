{
 "cells": [
  {
   "cell_type": "markdown",
   "metadata": {},
   "source": [
    "# Load Pandas DataFrame"
   ]
  },
  {
   "cell_type": "code",
   "execution_count": null,
   "metadata": {},
   "outputs": [],
   "source": [
    "import json\n",
    "\n",
    "import numpy as np\n",
    "import pandas as pd\n",
    "from bqplot import DateScale, ColorScale\n",
    "from py2vega.functions.type_coercing import toDate\n",
    "from py2vega.functions.date_time import datetime\n",
    "\n",
    "from ipydatagrid import Expr, DataGrid, TextRenderer, BarRenderer\n",
    "\n",
    "n = 10000\n",
    "\n",
    "df = pd.DataFrame(\n",
    "    {\n",
    "        \"Value 1\": np.random.randn(n),\n",
    "        \"Value 2\": np.random.randn(n),\n",
    "        \"Dates\": pd.date_range(end=pd.Timestamp(\"today\"), periods=n),\n",
    "    }\n",
    ")\n",
    "\n",
    "text_renderer = TextRenderer(\n",
    "    text_color=\"black\", background_color=ColorScale(min=-5, max=5)\n",
    ")\n",
    "\n",
    "\n",
    "def bar_color(cell):\n",
    "    date = toDate(cell.value)\n",
    "    return \"green\" if date > datetime(\"2000\") else \"red\"\n",
    "\n",
    "\n",
    "renderers = {\n",
    "    \"Value 1\": text_renderer,\n",
    "    \"Value 2\": text_renderer,\n",
    "    \"Dates\": BarRenderer(\n",
    "        bar_value=DateScale(min=df[\"Dates\"][0], max=df[\"Dates\"][n - 1]),\n",
    "        bar_color=Expr(bar_color),\n",
    "        format=\"%Y/%m/%d\",\n",
    "        format_type=\"time\",\n",
    "    ),\n",
    "}\n",
    "\n",
    "grid = DataGrid(df, base_row_size=30, base_column_size=300, renderers=renderers)\n",
    "grid.transform([{\"type\": \"sort\", \"columnIndex\": 2, \"desc\": True}])\n",
    "grid"
   ]
  },
  {
   "cell_type": "code",
   "execution_count": null,
   "metadata": {},
   "outputs": [],
   "source": []
  }
 ],
 "metadata": {
  "kernelspec": {
   "display_name": "Python 3",
   "language": "python",
   "name": "python3"
  },
  "language_info": {
   "codemirror_mode": {
    "name": "ipython",
    "version": 3
   },
   "file_extension": ".py",
   "mimetype": "text/x-python",
   "name": "python",
   "nbconvert_exporter": "python",
   "pygments_lexer": "ipython3",
   "version": "3.6.6"
  }
 },
 "nbformat": 4,
 "nbformat_minor": 4
}
