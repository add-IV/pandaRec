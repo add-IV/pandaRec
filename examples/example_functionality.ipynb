{
 "cells": [
  {
   "cell_type": "code",
   "execution_count": 1,
   "metadata": {},
   "outputs": [],
   "source": [
    "import pandas as pd\n",
    "from json import load\n",
    "import yaml\n",
    "import sys\n",
    "sys.path.append('../')\n",
    "from pandaRec.pandaRecWidget import PandaRecWidget\n",
    "from pandaRec.recipe import Recipe\n",
    "from pandaRec.recommender import Recommender\n",
    "from pandaRec.strategies import NameSearch"
   ]
  },
  {
   "cell_type": "code",
   "execution_count": 2,
   "metadata": {},
   "outputs": [],
   "source": [
    "with open(\"./recipes.yaml\") as file:\n",
    "    yamlDict = yaml.load(file, Loader=yaml.SafeLoader)\n",
    "\n",
    "recipes = []\n",
    "\n",
    "for recipe in yamlDict[\"recipes\"]:\n",
    "    recipes.append(Recipe.from_dict(recipe))"
   ]
  },
  {
   "cell_type": "code",
   "execution_count": 4,
   "metadata": {},
   "outputs": [
    {
     "data": {
      "application/vnd.jupyter.widget-view+json": {
       "model_id": "68f3c88a1e6d41d4a086844c9cd534f2",
       "version_major": 2,
       "version_minor": 0
      },
      "text/plain": [
       "PandaRecWidget(children=(DataGrid(auto_fit_params={'area': 'all', 'padding': 30, 'numCols': None}, corner_rend…"
      ]
     },
     "metadata": {},
     "output_type": "display_data"
    },
    {
     "name": "stdout",
     "output_type": "stream",
     "text": [
      "Recipe(1, rename columns, rename columns, tbd, tbd): 1\n",
      "Recipe(2, drop columns, drop columns, tbd, tbd): 0\n",
      "\n"
     ]
    }
   ],
   "source": [
    "with open(\"./cars.json\") as file:\n",
    "    data = load(file)\n",
    "\n",
    "df = pd.DataFrame(data[\"data\"]).drop(\"index\", axis=1)\n",
    "\n",
    "recommender = Recommender(recipes, df, NameSearch())\n",
    "\n",
    "widget = PandaRecWidget(recommender)\n",
    "widget"
   ]
  }
 ],
 "metadata": {
  "kernelspec": {
   "display_name": "Python 3.8.2 ('venv': venv)",
   "language": "python",
   "name": "python3"
  },
  "language_info": {
   "codemirror_mode": {
    "name": "ipython",
    "version": 3
   },
   "file_extension": ".py",
   "mimetype": "text/x-python",
   "name": "python",
   "nbconvert_exporter": "python",
   "pygments_lexer": "ipython3",
   "version": "3.11.2"
  },
  "vscode": {
   "interpreter": {
    "hash": "7fe55a836b559f10d7bacbf061af12874c1d286bd2635a1e5cec1a73a9c03336"
   }
  }
 },
 "nbformat": 4,
 "nbformat_minor": 4
}
