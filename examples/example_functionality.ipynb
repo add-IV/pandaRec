{
 "cells": [
  {
   "cell_type": "markdown",
   "metadata": {},
   "source": [
    "[![Binder](https://mybinder.org/badge_logo.svg)](https://mybinder.org/v2/gh/add-IV/pandaRec/master?labpath=examples%2Fexample_functionality.ipynb)"
   ]
  },
  {
   "cell_type": "code",
   "execution_count": null,
   "metadata": {},
   "outputs": [],
   "source": [
    "import pandas as pd\n",
    "import json\n",
    "import sys\n",
    "sys.path.append('../')\n",
    "from pandaRec import PandaRecWidget, Recipe, Recommender\n",
    "from pandaRec.strategies import NameSearch, FuzzySearchName, FuzzySearchDescription, SemanticSearch, OpenAIEmbeddings # <- current search strategies\n",
    "import openai"
   ]
  },
  {
   "cell_type": "code",
   "execution_count": 2,
   "metadata": {},
   "outputs": [],
   "source": [
    "with open(\"../recipes/recipes.json\") as file:\n",
    "    recipes = json.load(file)\n",
    "\n",
    "recipes = [Recipe.from_dict(recipe) for recipe in recipes]"
   ]
  },
  {
   "cell_type": "code",
   "execution_count": 3,
   "metadata": {},
   "outputs": [],
   "source": [
    "with open(\"api_key.txt\", \"r\") as file:\n",
    "    api_key = file.read()\n",
    "\n",
    "openai.api_key = api_key"
   ]
  },
  {
   "cell_type": "code",
   "execution_count": 4,
   "metadata": {},
   "outputs": [],
   "source": [
    "from pandaRec.copybutton import copy_button_html\n",
    "import ipywidgets as widgets"
   ]
  },
  {
   "cell_type": "code",
   "execution_count": 5,
   "metadata": {},
   "outputs": [
    {
     "data": {
      "application/vnd.jupyter.widget-view+json": {
       "model_id": "83604df8ed04401691a25386dbba7a0c",
       "version_major": 2,
       "version_minor": 0
      },
      "text/plain": [
       "HTML(value='\\n<style>\\n    .copybutton:active {\\n        background-color: var(--jp-success-color1);\\n    }\\n<…"
      ]
     },
     "execution_count": 5,
     "metadata": {},
     "output_type": "execute_result"
    }
   ],
   "source": [
    "widgets.HTML(copy_button_html(\"resr\"))"
   ]
  },
  {
   "cell_type": "code",
   "execution_count": 6,
   "metadata": {},
   "outputs": [
    {
     "name": "stdout",
     "output_type": "stream",
     "text": [
      "{'html': True, 'datagrid_layout': {'height': '300px'}}\n",
      "{'height': '300px'}\n"
     ]
    }
   ],
   "source": [
    "with open(\"./cars.json\") as file:\n",
    "    data = json.load(file)\n",
    "\n",
    "df = pd.DataFrame(data[\"data\"]).drop(\"index\", axis=1)\n",
    "\n",
    "recommender = Recommender(recipes, df, SemanticSearch(recipes, path=\"../recipes/embeddings.pt\"))\n",
    "\n",
    "datagrid_layout = {\n",
    "    \"height\": \"300px\"\n",
    "}\n",
    "widget = PandaRecWidget(recommender, html=True, datagrid_layout=datagrid_layout)"
   ]
  },
  {
   "cell_type": "code",
   "execution_count": 9,
   "metadata": {},
   "outputs": [
    {
     "data": {
      "application/vnd.jupyter.widget-view+json": {
       "model_id": "2beb9fefbc234503ab6614f1074e0342",
       "version_major": 2,
       "version_minor": 0
      },
      "text/plain": [
       "PandaRecWidget(children=(Accordion(children=(VBox(children=(Label(value='Copy Prefix'), Textarea(value='widget…"
      ]
     },
     "metadata": {},
     "output_type": "display_data"
    }
   ],
   "source": [
    "display(widget)"
   ]
  }
 ],
 "metadata": {
  "kernelspec": {
   "display_name": "Python 3.8.2 ('venv': venv)",
   "language": "python",
   "name": "python3"
  },
  "language_info": {
   "codemirror_mode": {
    "name": "ipython",
    "version": 3
   },
   "file_extension": ".py",
   "mimetype": "text/x-python",
   "name": "python",
   "nbconvert_exporter": "python",
   "pygments_lexer": "ipython3",
   "version": "3.10.13"
  },
  "vscode": {
   "interpreter": {
    "hash": "7fe55a836b559f10d7bacbf061af12874c1d286bd2635a1e5cec1a73a9c03336"
   }
  }
 },
 "nbformat": 4,
 "nbformat_minor": 4
}
