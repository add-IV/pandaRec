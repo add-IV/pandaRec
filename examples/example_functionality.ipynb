{
 "cells": [
  {
   "cell_type": "code",
   "execution_count": 1,
   "metadata": {},
   "outputs": [],
   "source": [
    "import pandas as pd\n",
    "import json\n",
    "import sys\n",
    "sys.path.append('../')\n",
    "from pandaRec import PandaRecWidget, Recipe, Recommender\n",
    "from pandaRec.strategies import NameSearch, FuzzySearchTitle, FuzzySearchDescription, SemanticSearch # <- current search strategies"
   ]
  },
  {
   "cell_type": "code",
   "execution_count": 6,
   "metadata": {},
   "outputs": [],
   "source": [
    "with open(\"./recipes.json\") as file:\n",
    "    recipes = json.load(file)\n",
    "\n",
    "recipes = [Recipe.from_dict(recipe) for recipe in recipes]"
   ]
  },
  {
   "cell_type": "code",
   "execution_count": 3,
   "metadata": {},
   "outputs": [
    {
     "name": "stdout",
     "output_type": "stream",
     "text": [
      "{'name': 'value', 'old': '', 'new': 'f', 'owner': Text(value='f', description='Search:', placeholder='Search term'), 'type': 'change'}\n",
      "{'name': 'value', 'old': 'f', 'new': 'fi', 'owner': Text(value='fi', description='Search:', placeholder='Search term'), 'type': 'change'}\n",
      "{'name': 'value', 'old': 'fi', 'new': 'fil', 'owner': Text(value='fil', description='Search:', placeholder='Search term'), 'type': 'change'}\n",
      "{'name': 'value', 'old': 'fil', 'new': 'filt', 'owner': Text(value='filt', description='Search:', placeholder='Search term'), 'type': 'change'}\n"
     ]
    }
   ],
   "source": [
    "with open(\"./cars.json\") as file:\n",
    "    data = json.load(file)\n",
    "\n",
    "df = pd.DataFrame(data[\"data\"]).drop(\"index\", axis=1)\n",
    "\n",
    "recommender = Recommender(recipes, df, SemanticSearch(recipes, path=\"embeddings.pt\"))\n",
    "\n",
    "widget = PandaRecWidget(recommender)\n"
   ]
  },
  {
   "cell_type": "code",
   "execution_count": 4,
   "metadata": {},
   "outputs": [
    {
     "data": {
      "application/vnd.jupyter.widget-view+json": {
       "model_id": "25bdb411a30c43aeb5343c4a916de37e",
       "version_major": 2,
       "version_minor": 0
      },
      "text/plain": [
       "PandaRecWidget(children=(DataGrid(auto_fit_params={'area': 'all', 'padding': 30, 'numCols': None}, corner_rend…"
      ]
     },
     "metadata": {},
     "output_type": "display_data"
    }
   ],
   "source": [
    "display(widget)"
   ]
  },
  {
   "cell_type": "code",
   "execution_count": 5,
   "metadata": {},
   "outputs": [],
   "source": [
    "widget.df = widget.df[0:16]\n",
    "widget.update_data()"
   ]
  }
 ],
 "metadata": {
  "kernelspec": {
   "display_name": "Python 3.8.2 ('venv': venv)",
   "language": "python",
   "name": "python3"
  },
  "language_info": {
   "codemirror_mode": {
    "name": "ipython",
    "version": 3
   },
   "file_extension": ".py",
   "mimetype": "text/x-python",
   "name": "python",
   "nbconvert_exporter": "python",
   "pygments_lexer": "ipython3",
   "version": "3.11.5"
  },
  "vscode": {
   "interpreter": {
    "hash": "7fe55a836b559f10d7bacbf061af12874c1d286bd2635a1e5cec1a73a9c03336"
   }
  }
 },
 "nbformat": 4,
 "nbformat_minor": 4
}
