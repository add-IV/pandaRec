{
 "cells": [
  {
   "cell_type": "markdown",
   "metadata": {},
   "source": [
    "[![Binder](https://mybinder.org/badge_logo.svg)](https://mybinder.org/v2/gh/add-IV/pandaRec/master?labpath=examples%2Fexample_functionality.ipynb)"
   ]
  },
  {
   "cell_type": "code",
   "execution_count": 1,
   "metadata": {},
   "outputs": [],
   "source": [
    "import pandas as pd\n",
    "import json\n",
    "import sys\n",
    "sys.path.append('../')\n",
    "from pandarec import PandaRecWidget, Recipe, Recommender\n",
    "from pandarec.strategies import NameSearch, FuzzySearchName, FuzzySearchDescription, SemanticSearch, SemanticSearchFeedback, OpenAIChatCompletion, OpenAIEmbeddings # <- current search strategies\n",
    "import openai"
   ]
  },
  {
   "cell_type": "code",
   "execution_count": 2,
   "metadata": {},
   "outputs": [],
   "source": [
    "with open(\"../recipes/from_docstrings/recipes.json\") as file:\n",
    "    recipes = json.load(file)\n",
    "\n",
    "recipes = [Recipe.from_dict(recipe) for recipe in recipes]"
   ]
  },
  {
   "cell_type": "code",
   "execution_count": 3,
   "metadata": {},
   "outputs": [],
   "source": [
    "with open(\"api_key.txt\", \"r\") as file:\n",
    "    api_key = file.read()\n",
    "\n",
    "openai.api_key = api_key"
   ]
  },
  {
   "cell_type": "code",
   "execution_count": 4,
   "metadata": {},
   "outputs": [
    {
     "name": "stdout",
     "output_type": "stream",
     "text": [
      "Here are some code snippets that can help you manipulate a DataFrame to remove missing values:\n",
      "\n",
      "1. name: dropna\n",
      "   code: df.dropna()\n",
      "   description: Remove rows with missing values in any column.\n",
      "\n",
      "2. name: dropna_subset\n",
      "   code: df.dropna(subset=['column_name'])\n",
      "   description: Remove rows with missing values only in a specific column.\n",
      "\n",
      "3. name: fillna\n",
      "   code: df.fillna(value)\n",
      "   description: Replace missing values with a specific value.\n",
      "\n",
      "4. name: drop_duplicates\n",
      "   code: df.drop_duplicates()\n",
      "   description: Remove duplicate rows from the DataFrame.\n",
      "\n",
      "5. name: interpolate\n",
      "   code: df.interpolate()\n",
      "   description: Fill missing values using linear interpolation.\n",
      "\n",
      "Please note that these code snippets assume that you are working with a DataFrame named 'df'. You may need to modify them based on your specific DataFrame name and structure.\n",
      "['dropna', 'dropna_subset', 'fillna', 'drop_duplicates', 'interpolate'] ['Remove rows with missing values in any column.', 'Remove rows with missing values only in a specific column.', 'Replace missing values with a specific value.', 'Remove duplicate rows from the DataFrame.', 'Fill missing values using linear interpolation.'] ['df.dropna()', \"df.dropna(subset=['column_name'])\", 'df.fillna(value)', 'df.drop_duplicates()', 'df.interpolate()']\n"
     ]
    }
   ],
   "source": [
    "with open(\"./cars.json\") as file:\n",
    "    data = json.load(file)\n",
    "\n",
    "df = pd.DataFrame(data[\"data\"]).drop(\"index\", axis=1)\n",
    "\n",
    "recommender = Recommender(recipes, df, OpenAIChatCompletion(recipes, model=\"gpt-3.5-turbo\"))\n",
    "\n",
    "datagrid_layout = {\n",
    "    \"height\": \"300px\"\n",
    "}\n",
    "widget = PandaRecWidget(recommender, html=True, debounce=1, datagrid_layout=datagrid_layout)"
   ]
  },
  {
   "cell_type": "code",
   "execution_count": 5,
   "metadata": {},
   "outputs": [
    {
     "data": {
      "application/vnd.jupyter.widget-view+json": {
       "model_id": "b3a9b01ed1d744b09962098e27f6e689",
       "version_major": 2,
       "version_minor": 0
      },
      "text/plain": [
       "PandaRecWidget(children=(Accordion(children=(VBox(children=(Label(value='Copy Prefix'), Textarea(value='widget…"
      ]
     },
     "metadata": {},
     "output_type": "display_data"
    }
   ],
   "source": [
    "display(widget)"
   ]
  }
 ],
 "metadata": {
  "kernelspec": {
   "display_name": "Python 3.8.2 ('venv': venv)",
   "language": "python",
   "name": "python3"
  },
  "language_info": {
   "codemirror_mode": {
    "name": "ipython",
    "version": 3
   },
   "file_extension": ".py",
   "mimetype": "text/x-python",
   "name": "python",
   "nbconvert_exporter": "python",
   "pygments_lexer": "ipython3",
   "version": "3.10.13"
  },
  "vscode": {
   "interpreter": {
    "hash": "7fe55a836b559f10d7bacbf061af12874c1d286bd2635a1e5cec1a73a9c03336"
   }
  }
 },
 "nbformat": 4,
 "nbformat_minor": 4
}
