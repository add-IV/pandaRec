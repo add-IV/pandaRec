{
 "cells": [
  {
   "cell_type": "code",
   "execution_count": 5,
   "metadata": {},
   "outputs": [],
   "source": [
    "import pandas as pd\n",
    "from json import load\n",
    "import yaml\n",
    "import sys\n",
    "sys.path.append('../')\n",
    "from pandaRec.pandaRecWidget import PandaRecWidget\n",
    "from pandaRec.recipe import Recipe\n",
    "from pandaRec.recommender import Recommender, NameSearch"
   ]
  },
  {
   "cell_type": "code",
   "execution_count": 7,
   "metadata": {},
   "outputs": [],
   "source": [
    "with open(\"./recipes.yaml\") as file:\n",
    "    yamlDict = yaml.load(file, Loader=yaml.SafeLoader)\n",
    "\n",
    "recipes = []\n",
    "\n",
    "for recipe in yamlDict[\"recipes\"]:\n",
    "    recipes.append(Recipe.from_dict(recipe))"
   ]
  },
  {
   "cell_type": "code",
   "execution_count": 8,
   "metadata": {},
   "outputs": [
    {
     "data": {
      "application/vnd.jupyter.widget-view+json": {
       "model_id": "af96f2a6dd2e4408bf564e0ee61f921a",
       "version_major": 2,
       "version_minor": 0
      },
      "text/plain": [
       "PandaRecWidget(children=(DataGrid(auto_fit_params={'area': 'all', 'padding': 30, 'numCols': None}, corner_rend…"
      ]
     },
     "metadata": {},
     "output_type": "display_data"
    },
    {
     "name": "stdout",
     "output_type": "stream",
     "text": [
      "Recipe(1, rename columns, rename columns, tbd, tbd): 1\n",
      "Recipe(2, drop columns, drop columns, tbd, tbd): 0\n",
      "\n"
     ]
    }
   ],
   "source": [
    "with open(\"./cars.json\") as file:\n",
    "    data = load(file)\n",
    "\n",
    "df = pd.DataFrame(data[\"data\"]).drop(\"index\", axis=1)\n",
    "\n",
    "recommender = Recommender(recipes, df, NameSearch())\n",
    "\n",
    "widget = PandaRecWidget(recommender)\n",
    "widget"
   ]
  }
 ],
 "metadata": {
  "kernelspec": {
   "display_name": "Python 3",
   "language": "python",
   "name": "python3"
  },
  "language_info": {
   "codemirror_mode": {
    "name": "ipython",
    "version": 3
   },
   "file_extension": ".py",
   "mimetype": "text/x-python",
   "name": "python",
   "nbconvert_exporter": "python",
   "pygments_lexer": "ipython3",
   "version": "3.10.9"
  },
  "vscode": {
   "interpreter": {
    "hash": "ab882970a465b91ccf0c26acb5933a8d082ef70b2e4e554514d40e08e4f53216"
   }
  }
 },
 "nbformat": 4,
 "nbformat_minor": 4
}
