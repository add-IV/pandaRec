{
 "cells": [
  {
   "cell_type": "code",
   "execution_count": 1,
   "metadata": {},
   "outputs": [],
   "source": [
    "import pandas as pd\n",
    "from json import load\n",
    "import yaml\n",
    "import sys\n",
    "sys.path.append('../')\n",
    "from pandaRec.pandaRecWidget import PandaRecWidget\n",
    "from pandaRec.recipe import Recipe\n",
    "from pandaRec.recommender import Recommender\n",
    "from pandaRec.strategies import NameSearch, FuzzySearchTitle, FuzzySearchDescription"
   ]
  },
  {
   "cell_type": "code",
   "execution_count": 2,
   "metadata": {},
   "outputs": [],
   "source": [
    "with open(\"./recipes2.yaml\") as file:\n",
    "    recipes = yaml.load(file, Loader=yaml.UnsafeLoader)"
   ]
  },
  {
   "cell_type": "code",
   "execution_count": 3,
   "metadata": {},
   "outputs": [
    {
     "name": "stdout",
     "output_type": "stream",
     "text": [
      "(Label(value=''), Label(value=''), Textarea(value='', layout=Layout(width='100%')), Label(value=''), Label(value=''), Textarea(value='', layout=Layout(width='100%')), Label(value=''), Label(value=''), Textarea(value='', layout=Layout(width='100%')), Label(value=''), Label(value=''), Textarea(value='', layout=Layout(width='100%')), Label(value=''), Label(value=''), Textarea(value='', layout=Layout(width='100%')), Label(value=''), Label(value=''), Textarea(value='', layout=Layout(width='100%')), Label(value=''), Label(value=''), Textarea(value='', layout=Layout(width='100%')), Label(value=''), Label(value=''), Textarea(value='', layout=Layout(width='100%')), Label(value=''), Label(value=''), Textarea(value='', layout=Layout(width='100%')), Label(value=''), Label(value=''), Textarea(value='', layout=Layout(width='100%')), Label(value=''), Label(value=''), Textarea(value='', layout=Layout(width='100%')), Label(value=''), Label(value=''), Textarea(value='', layout=Layout(width='100%')), Label(value=''), Label(value=''), Textarea(value='', layout=Layout(width='100%')), Label(value=''), Label(value=''), Textarea(value='', layout=Layout(width='100%')), Label(value=''), Label(value=''), Textarea(value='', layout=Layout(width='100%')), Label(value=''), Label(value=''), Textarea(value='', layout=Layout(width='100%')), Label(value=''), Label(value=''), Textarea(value='', layout=Layout(width='100%')), Label(value=''), Label(value=''), Textarea(value='', layout=Layout(width='100%')), Label(value=''), Label(value=''), Textarea(value='', layout=Layout(width='100%')), Label(value=''), Label(value=''), Textarea(value='', layout=Layout(width='100%')))\n"
     ]
    },
    {
     "data": {
      "application/vnd.jupyter.widget-view+json": {
       "model_id": "27504ee30c4d4198abcb4f34e7ac8367",
       "version_major": 2,
       "version_minor": 0
      },
      "text/plain": [
       "PandaRecWidget(children=(DataGrid(auto_fit_params={'area': 'all', 'padding': 30, 'numCols': None}, corner_rend…"
      ]
     },
     "metadata": {},
     "output_type": "display_data"
    }
   ],
   "source": [
    "with open(\"./cars.json\") as file:\n",
    "    data = load(file)\n",
    "\n",
    "df = pd.DataFrame(data[\"data\"]).drop(\"index\", axis=1)\n",
    "\n",
    "recommender = Recommender(recipes, df, FuzzySearchTitle())\n",
    "\n",
    "widget = PandaRecWidget(recommender)\n",
    "\n",
    "display(widget)\n"
   ]
  }
 ],
 "metadata": {
  "kernelspec": {
   "display_name": "Python 3.8.2 ('venv': venv)",
   "language": "python",
   "name": "python3"
  },
  "language_info": {
   "codemirror_mode": {
    "name": "ipython",
    "version": 3
   },
   "file_extension": ".py",
   "mimetype": "text/x-python",
   "name": "python",
   "nbconvert_exporter": "python",
   "pygments_lexer": "ipython3",
   "version": "3.10.9"
  },
  "vscode": {
   "interpreter": {
    "hash": "7fe55a836b559f10d7bacbf061af12874c1d286bd2635a1e5cec1a73a9c03336"
   }
  }
 },
 "nbformat": 4,
 "nbformat_minor": 4
}
