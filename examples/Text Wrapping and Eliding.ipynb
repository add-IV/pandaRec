{
 "cells": [
  {
   "cell_type": "markdown",
   "id": "listed-conspiracy",
   "metadata": {},
   "source": [
    "# `ipydatagrid`\n",
    "\n",
    "Text wrapping and eliding are available in the `TextRenderer`. Eliding is set to \"right\" by default. If text wrapping is enabled, it will have precedence over eliding."
   ]
  },
  {
   "cell_type": "code",
   "execution_count": null,
   "id": "entertaining-adoption",
   "metadata": {},
   "outputs": [],
   "source": [
    "import ipydatagrid as grid\n",
    "import pandas as pd\n",
    "import numpy as np\n",
    "\n",
    "np.random.seed(98)\n",
    "data = pd.DataFrame(\n",
    "    columns=[\"Many Words In This Column\", \"SingleWordColumn\"],\n",
    "    data=np.random.random_sample((5, 2)),\n",
    ")\n",
    "\n",
    "default_renderer = grid.TextRenderer(\n",
    "    background_color=grid.VegaExpr(\"cell.value <= 0.5 ? 'pink' : 'lawngreen'\"),\n",
    "    text_elide_direction=\"left\",\n",
    ")\n",
    "\n",
    "\n",
    "header_renderer = grid.TextRenderer(\n",
    "    text_color=\"navy\",\n",
    "    text_wrap=True,\n",
    "    vertical_alignment=\"top\",\n",
    "    background_color=\"moccasin\",\n",
    "    horizontal_alignment=\"center\",\n",
    ")\n",
    "\n",
    "grid.DataGrid(\n",
    "    data,\n",
    "    base_column_size=90,\n",
    "    base_column_header_size=35,\n",
    "    base_row_header_size=80,\n",
    "    layout={\"height\": \"180px\"},\n",
    "    header_renderer=header_renderer,\n",
    "    default_renderer=default_renderer,\n",
    ")"
   ]
  }
 ],
 "metadata": {
  "kernelspec": {
   "display_name": "Python 3",
   "language": "python",
   "name": "python3"
  },
  "language_info": {
   "codemirror_mode": {
    "name": "ipython",
    "version": 3
   },
   "file_extension": ".py",
   "mimetype": "text/x-python",
   "name": "python",
   "nbconvert_exporter": "python",
   "pygments_lexer": "ipython3",
   "version": "3.9.5"
  }
 },
 "nbformat": 4,
 "nbformat_minor": 5
}
