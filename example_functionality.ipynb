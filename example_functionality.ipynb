{
 "cells": [
  {
   "cell_type": "code",
   "execution_count": 1,
   "metadata": {},
   "outputs": [],
   "source": [
    "import ipywidgets as widgets\n",
    "from ipywidgets import Layout, Text, Button\n",
    "from ipydatagrid import DataGrid\n",
    "import pandas as pd\n",
    "from json import load\n",
    "import yaml\n",
    "from pandaRec.recipe import Recipe, RecipeResult\n",
    "from pandaRec.recommender import Recommender, Context, NameSearch\n"
   ]
  },
  {
   "cell_type": "code",
   "execution_count": 2,
   "metadata": {},
   "outputs": [],
   "source": [
    "with open(\"./recipes.yaml\") as file:\n",
    "    yamlDict = yaml.load(file, Loader=yaml.SafeLoader)\n",
    "\n",
    "recipes = []\n",
    "\n",
    "for recipe in yamlDict[\"recipes\"]:\n",
    "    recipes.append(Recipe.from_dict(recipe))"
   ]
  },
  {
   "cell_type": "code",
   "execution_count": 4,
   "metadata": {},
   "outputs": [
    {
     "data": {
      "application/vnd.jupyter.widget-view+json": {
       "model_id": "509e363801884bd1a5d681ced76b28a4",
       "version_major": 2,
       "version_minor": 0
      },
      "text/plain": [
       "Text(value='', description='Prompt:')"
      ]
     },
     "metadata": {},
     "output_type": "display_data"
    },
    {
     "data": {
      "application/vnd.jupyter.widget-view+json": {
       "model_id": "dec46bf8809b4df5978637729472d36e",
       "version_major": 2,
       "version_minor": 0
      },
      "text/plain": [
       "Button(description='search', layout=Layout(width='200px'), style=ButtonStyle())"
      ]
     },
     "metadata": {},
     "output_type": "display_data"
    },
    {
     "data": {
      "application/vnd.jupyter.widget-view+json": {
       "model_id": "3d74df9932174c0bb4a5bce90afc318a",
       "version_major": 2,
       "version_minor": 0
      },
      "text/plain": [
       "DataGrid(auto_fit_params={'area': 'all', 'padding': 30, 'numCols': None}, corner_renderer=None, default_render…"
      ]
     },
     "metadata": {},
     "output_type": "display_data"
    },
    {
     "name": "stdout",
     "output_type": "stream",
     "text": [
      "Recipe(1, rename columns, rename columns, tbd, tbd): 0\n",
      "Recipe(2, drop columns, drop columns, tbd, tbd): 0\n",
      "\n",
      "Recipe(1, rename columns, rename columns, tbd, tbd): 1\n",
      "Recipe(2, drop columns, drop columns, tbd, tbd): 0\n",
      "\n",
      "Recipe(1, rename columns, rename columns, tbd, tbd): 1\n",
      "Recipe(2, drop columns, drop columns, tbd, tbd): 0\n",
      "\n",
      "Recipe(1, rename columns, rename columns, tbd, tbd): 1\n",
      "Recipe(2, drop columns, drop columns, tbd, tbd): 0\n",
      "\n"
     ]
    }
   ],
   "source": [
    "textInput = Text(value=\"\", description=\"Prompt:\")\n",
    "button = Button(description=\"search\", layout=Layout(width=\"200px\"))\n",
    "\n",
    "with open(\"./cars.json\") as file:\n",
    "    data = load(file)\n",
    "df = pd.DataFrame(data[\"data\"]).drop(\"index\", axis=1)\n",
    "dg = DataGrid(df, editable=True, layout=Layout(height=\"50px\"))\n",
    "\n",
    "display(textInput, button, dg)\n",
    "\n",
    "\n",
    "def display_results(recipes: list[RecipeResult]):\n",
    "    for recipeResult in recipes:\n",
    "        print(recipeResult.recipeId, recipeResult.score)\n",
    "\n",
    "pandaRec = Recommender(recipes, Context([], pd.DataFrame(), \"\"), NameSearch())\n",
    "\n",
    "def search(b):\n",
    "    pandaRec.context.search = str(textInput.value)\n",
    "    print(pandaRec.showResults(pandaRec.recommend()))\n",
    "\n",
    "button.on_click(search)\n"
   ]
  }
 ],
 "metadata": {
  "kernelspec": {
   "display_name": "Python 3",
   "language": "python",
   "name": "python3"
  },
  "language_info": {
   "codemirror_mode": {
    "name": "ipython",
    "version": 3
   },
   "file_extension": ".py",
   "mimetype": "text/x-python",
   "name": "python",
   "nbconvert_exporter": "python",
   "pygments_lexer": "ipython3",
   "version": "3.9.12"
  },
  "vscode": {
   "interpreter": {
    "hash": "ab882970a465b91ccf0c26acb5933a8d082ef70b2e4e554514d40e08e4f53216"
   }
  }
 },
 "nbformat": 4,
 "nbformat_minor": 4
}
