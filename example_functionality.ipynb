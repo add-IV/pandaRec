{
 "cells": [
  {
   "cell_type": "code",
   "execution_count": 1,
   "metadata": {},
   "outputs": [],
   "source": [
    "import ipywidgets as widgets\n",
    "from ipywidgets import Layout, Text, Button\n",
    "from ipydatagrid import DataGrid\n",
    "import pandas as pd\n",
    "from json import load\n",
    "from pandaRec.types import Recipe, RecipeResult\n"
   ]
  },
  {
   "cell_type": "code",
   "execution_count": 5,
   "metadata": {},
   "outputs": [
    {
     "data": {
      "application/vnd.jupyter.widget-view+json": {
       "model_id": "c0dfa8f949ab45c7b8cf50e4a8792fed",
       "version_major": 2,
       "version_minor": 0
      },
      "text/plain": [
       "Text(value='', description='Prompt:')"
      ]
     },
     "metadata": {},
     "output_type": "display_data"
    },
    {
     "data": {
      "application/vnd.jupyter.widget-view+json": {
       "model_id": "59afaeb7cd6e450395a422beb3440e5b",
       "version_major": 2,
       "version_minor": 0
      },
      "text/plain": [
       "Button(description='search', layout=Layout(width='200px'), style=ButtonStyle())"
      ]
     },
     "metadata": {},
     "output_type": "display_data"
    },
    {
     "data": {
      "application/vnd.jupyter.widget-view+json": {
       "model_id": "afef6d69f7534676acd59b0944e02518",
       "version_major": 2,
       "version_minor": 0
      },
      "text/plain": [
       "DataGrid(auto_fit_params={'area': 'all', 'padding': 30, 'numCols': None}, corner_renderer=None, default_render…"
      ]
     },
     "metadata": {},
     "output_type": "display_data"
    },
    {
     "data": {
      "application/vnd.jupyter.widget-view+json": {
       "model_id": "27d94d3b08fb49b6bdfd28e5981f5bda",
       "version_major": 2,
       "version_minor": 0
      },
      "text/plain": [
       "Output(layout=Layout(border_bottom='1px solid black', border_left='1px solid black', border_right='1px solid b…"
      ]
     },
     "metadata": {},
     "output_type": "display_data"
    }
   ],
   "source": [
    "\n",
    "# Erstelle ein neues Text-Eingabefeld tb1 und zeige es an.\n",
    "textInput = Text(value='', \n",
    "                   description='Prompt:')\n",
    "\n",
    "button = Button(description='search', \n",
    "                        layout=Layout(width='200px'))\n",
    "\n",
    "out = widgets.Output(layout={'border': '1px solid black'})\n",
    "\n",
    "with open(\"./cars.json\") as file:\n",
    "    data = load(file)\n",
    "\n",
    "df = pd.DataFrame(data[\"data\"]).drop(\"index\", axis=1)\n",
    "\n",
    "dg = DataGrid(df, editable= True)\n",
    "\n",
    "display(textInput, button, dg, out)\n",
    "\n",
    "def display_results(recipes: list[RecipeResult]):\n",
    "    with out:\n",
    "        for recipeResult in recipes:\n",
    "            print(recipeResult.recipeId, recipeResult.score)\n",
    "\n",
    "def show_results(button):\n",
    "    n = textInput.value\n",
    "    print(\"hi\")\n",
    "    if n == \"1\":\n",
    "        display_results([RecipeResult(1, 1), RecipeResult(2, 0)])\n",
    "    elif n == \"2\":\n",
    "        display_results([RecipeResult(1, 0), RecipeResult(2, 1)])\n",
    "    else:\n",
    "        display_results([RecipeResult(1, 0.5), RecipeResult(2, 0.5)])\n",
    "\n",
    "\n",
    "button.on_click(show_results)"
   ]
  }
 ],
 "metadata": {
  "kernelspec": {
   "display_name": "Python 3",
   "language": "python",
   "name": "python3"
  },
  "language_info": {
   "codemirror_mode": {
    "name": "ipython",
    "version": 3
   },
   "file_extension": ".py",
   "mimetype": "text/x-python",
   "name": "python",
   "nbconvert_exporter": "python",
   "pygments_lexer": "ipython3",
   "version": "3.10.9"
  },
  "vscode": {
   "interpreter": {
    "hash": "ab882970a465b91ccf0c26acb5933a8d082ef70b2e4e554514d40e08e4f53216"
   }
  }
 },
 "nbformat": 4,
 "nbformat_minor": 4
}
