{
 "cells": [
  {
   "cell_type": "code",
   "execution_count": 1,
   "metadata": {},
   "outputs": [],
   "source": [
    "import sys\n",
    "import json\n",
    "sys.path.append('../')\n",
    "from pandaRec import Recipe, Recommender\n",
    "from pandaRec.strategies import NameSearch, FuzzySearchName, FuzzySearchDescription, IndexSearch, SemanticSearch, OpenAIEmbeddings\n",
    "from pandaRec.context import Context"
   ]
  },
  {
   "cell_type": "code",
   "execution_count": 2,
   "metadata": {},
   "outputs": [],
   "source": [
    "with open('../recipes/recipes.json') as f:\n",
    "    recipes = json.load(f)"
   ]
  },
  {
   "cell_type": "code",
   "execution_count": 3,
   "metadata": {},
   "outputs": [],
   "source": [
    "recipes = [Recipe.from_dict(r) for r in recipes]"
   ]
  },
  {
   "cell_type": "code",
   "execution_count": 4,
   "metadata": {},
   "outputs": [
    {
     "name": "stdout",
     "output_type": "stream",
     "text": [
      "71.6 ns ± 0.995 ns per loop (mean ± std. dev. of 7 runs, 10,000,000 loops each)\n",
      "69.3 ns ± 0.881 ns per loop (mean ± std. dev. of 7 runs, 10,000,000 loops each)\n",
      "274 ns ± 0.461 ns per loop (mean ± std. dev. of 7 runs, 1,000,000 loops each)\n",
      "7.81 s ± 20 ms per loop (mean ± std. dev. of 7 runs, 1 loop each)\n",
      "10.5 s ± 68.5 ms per loop (mean ± std. dev. of 7 runs, 1 loop each)\n"
     ]
    }
   ],
   "source": [
    "%timeit NameSearch()\n",
    "%timeit FuzzySearchName()\n",
    "%timeit FuzzySearchDescription()\n",
    "%timeit IndexSearch(recipes)\n",
    "# %timeit SemanticSearch(recipes)\n",
    "%timeit SemanticSearch(recipes, model=\"all-MiniLM-L6-v2\")\n",
    "# %timeit OpenAIEmbeddings(recipes)"
   ]
  },
  {
   "cell_type": "code",
   "execution_count": 12,
   "metadata": {},
   "outputs": [
    {
     "name": "stdout",
     "output_type": "stream",
     "text": [
      "51.1 s ± 302 ms per loop (mean ± std. dev. of 7 runs, 1 loop each)\n"
     ]
    }
   ],
   "source": [
    "%timeit SemanticSearch(recipes, model=\"krlvi/sentence-t5-base-nlpl-code_search_net\")"
   ]
  },
  {
   "cell_type": "code",
   "execution_count": 5,
   "metadata": {},
   "outputs": [
    {
     "name": "stdout",
     "output_type": "stream",
     "text": [
      "1.47 ms ± 8.4 µs per loop (mean ± std. dev. of 7 runs, 100 loops each)\n",
      "696 ms ± 8.87 ms per loop (mean ± std. dev. of 7 runs, 1 loop each)\n"
     ]
    }
   ],
   "source": [
    "%timeit IndexSearch(recipes, '../recipes/search_index.pkl')\n",
    "%timeit SemanticSearch(recipes, '../recipes/embeddings.pt')\n",
    "# %timeit OpenAIEmbeddings(recipes, '../recipes/openai_embeddings.pt')"
   ]
  },
  {
   "cell_type": "code",
   "execution_count": null,
   "metadata": {},
   "outputs": [],
   "source": [
    "namesearch = NameSearch()\n",
    "fuzzysearchname = FuzzySearchName()\n",
    "fuzzysearchdescription = FuzzySearchDescription()\n",
    "indexsearch = IndexSearch(recipes)\n",
    "# semanticsearch = SemanticSearch(recipes)\n",
    "# openaiembeddings = OpenAIEmbeddings(recipes)\n",
    "semanticsearchmini = SemanticSearch(recipes, model=\"all-MiniLM-L6-v2\")"
   ]
  },
  {
   "cell_type": "code",
   "execution_count": 14,
   "metadata": {},
   "outputs": [],
   "source": [
    "semanticsearchpretrained = SemanticSearch(recipes, model=\"krlvi/sentence-t5-base-nlpl-code_search_net\")"
   ]
  },
  {
   "cell_type": "code",
   "execution_count": 8,
   "metadata": {},
   "outputs": [],
   "source": [
    "query = \"fill missing values with zero\""
   ]
  },
  {
   "cell_type": "code",
   "execution_count": 9,
   "metadata": {},
   "outputs": [],
   "source": [
    "context = Context(None, None, query)"
   ]
  },
  {
   "cell_type": "code",
   "execution_count": 10,
   "metadata": {},
   "outputs": [
    {
     "name": "stdout",
     "output_type": "stream",
     "text": [
      "6.23 µs ± 13.4 ns per loop (mean ± std. dev. of 7 runs, 100,000 loops each)\n",
      "820 µs ± 3.17 µs per loop (mean ± std. dev. of 7 runs, 1,000 loops each)\n",
      "10.5 ms ± 16.3 µs per loop (mean ± std. dev. of 7 runs, 100 loops each)\n",
      "1.74 ms ± 3.28 µs per loop (mean ± std. dev. of 7 runs, 1,000 loops each)\n",
      "16.5 ms ± 206 µs per loop (mean ± std. dev. of 7 runs, 100 loops each)\n"
     ]
    }
   ],
   "source": [
    "%timeit namesearch.search(context, recipes)\n",
    "%timeit fuzzysearchname.search(context, recipes)\n",
    "%timeit fuzzysearchdescription.search(context, recipes)\n",
    "%timeit indexsearch.search(context, recipes)\n",
    "# %timeit semanticsearch.search(context, recipes)\n",
    "# %timeit openaiembeddings.search(context, recipes)\n",
    "%timeit semanticsearchmini.search(context, recipes)"
   ]
  },
  {
   "cell_type": "code",
   "execution_count": 15,
   "metadata": {},
   "outputs": [
    {
     "name": "stdout",
     "output_type": "stream",
     "text": [
      "39.9 ms ± 705 µs per loop (mean ± std. dev. of 7 runs, 10 loops each)\n"
     ]
    }
   ],
   "source": [
    "%timeit semanticsearchpretrained.search(context, recipes)"
   ]
  }
 ],
 "metadata": {
  "kernelspec": {
   "display_name": "Python 3",
   "language": "python",
   "name": "python3"
  },
  "language_info": {
   "codemirror_mode": {
    "name": "ipython",
    "version": 3
   },
   "file_extension": ".py",
   "mimetype": "text/x-python",
   "name": "python",
   "nbconvert_exporter": "python",
   "pygments_lexer": "ipython3",
   "version": "3.11.5"
  }
 },
 "nbformat": 4,
 "nbformat_minor": 2
}
