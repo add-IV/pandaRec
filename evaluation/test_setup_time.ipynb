{
 "cells": [
  {
   "cell_type": "code",
   "execution_count": 1,
   "metadata": {},
   "outputs": [],
   "source": [
    "import sys\n",
    "import json\n",
    "sys.path.append('../')\n",
    "from pandaRec import Recipe, Recommender\n",
    "from pandaRec.strategies import NameSearch, FuzzySearchName, FuzzySearchDescription, IndexSearch, SemanticSearch\n",
    "from pandaRec.context import Context"
   ]
  },
  {
   "cell_type": "code",
   "execution_count": 2,
   "metadata": {},
   "outputs": [],
   "source": [
    "with open('../recipes/recipes.json') as f:\n",
    "    recipes = json.load(f)"
   ]
  },
  {
   "cell_type": "code",
   "execution_count": 3,
   "metadata": {},
   "outputs": [],
   "source": [
    "recipes = [Recipe.from_dict(r) for r in recipes]"
   ]
  },
  {
   "cell_type": "code",
   "execution_count": 4,
   "metadata": {},
   "outputs": [],
   "source": [
    "import nltk"
   ]
  },
  {
   "cell_type": "code",
   "execution_count": 5,
   "metadata": {},
   "outputs": [],
   "source": [
    "wnl = nltk.stem.WordNetLemmatizer()"
   ]
  },
  {
   "cell_type": "code",
   "execution_count": 6,
   "metadata": {},
   "outputs": [
    {
     "name": "stdout",
     "output_type": "stream",
     "text": [
      "Couldn't find program: 'false'\n"
     ]
    }
   ],
   "source": [
    "%%script false\n",
    "%timeit NameSearch()\n",
    "%timeit FuzzySearchName()\n",
    "%timeit FuzzySearchDescription()\n",
    "%timeit IndexSearch(recipes)\n",
    "%timeit SemanticSearch(recipes)"
   ]
  },
  {
   "cell_type": "code",
   "execution_count": 7,
   "metadata": {},
   "outputs": [
    {
     "name": "stdout",
     "output_type": "stream",
     "text": [
      "Couldn't find program: 'false'\n"
     ]
    }
   ],
   "source": [
    "%%script false\n",
    "IndexSearch(recipes, path='../recipes/search_index.pkl')\n",
    "%timeit SemanticSearch(recipes, path='../recipes/embeddings.pt')"
   ]
  },
  {
   "cell_type": "code",
   "execution_count": 8,
   "metadata": {},
   "outputs": [],
   "source": [
    "namesearch = NameSearch()\n",
    "fuzzysearchname = FuzzySearchName()\n",
    "fuzzysearchdescription = FuzzySearchDescription()\n",
    "indexsearch = IndexSearch(recipes, path='../recipes/search_index.pkl')\n",
    "semanticsearch = SemanticSearch(recipes, path='../recipes/embeddings.pt')"
   ]
  },
  {
   "cell_type": "code",
   "execution_count": 12,
   "metadata": {},
   "outputs": [],
   "source": [
    "query = 'fill na values with zero'"
   ]
  },
  {
   "cell_type": "code",
   "execution_count": 13,
   "metadata": {},
   "outputs": [],
   "source": [
    "context = Context(selections=None, data=None, search=query)"
   ]
  },
  {
   "cell_type": "code",
   "execution_count": 14,
   "metadata": {},
   "outputs": [
    {
     "name": "stdout",
     "output_type": "stream",
     "text": [
      "6.53 µs ± 79.8 ns per loop (mean ± std. dev. of 7 runs, 100,000 loops each)\n",
      "756 µs ± 1.34 µs per loop (mean ± std. dev. of 7 runs, 1,000 loops each)\n",
      "10 ms ± 45.3 µs per loop (mean ± std. dev. of 7 runs, 100 loops each)\n",
      "1.74 ms ± 4.08 µs per loop (mean ± std. dev. of 7 runs, 1,000 loops each)\n",
      "38.2 ms ± 904 µs per loop (mean ± std. dev. of 7 runs, 10 loops each)\n"
     ]
    }
   ],
   "source": [
    "%timeit namesearch.search(context, recipes)\n",
    "%timeit fuzzysearchname.search(context, recipes)\n",
    "%timeit fuzzysearchdescription.search(context, recipes)\n",
    "%timeit indexsearch.search(context, recipes)\n",
    "%timeit semanticsearch.search(context, recipes)"
   ]
  }
 ],
 "metadata": {
  "kernelspec": {
   "display_name": "Python 3",
   "language": "python",
   "name": "python3"
  },
  "language_info": {
   "codemirror_mode": {
    "name": "ipython",
    "version": 3
   },
   "file_extension": ".py",
   "mimetype": "text/x-python",
   "name": "python",
   "nbconvert_exporter": "python",
   "pygments_lexer": "ipython3",
   "version": "3.11.5"
  }
 },
 "nbformat": 4,
 "nbformat_minor": 2
}
